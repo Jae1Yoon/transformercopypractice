{
  "nbformat": 4,
  "nbformat_minor": 0,
  "metadata": {
    "colab": {
      "name": "transformerPT.ipynb",
      "provenance": [],
      "collapsed_sections": [],
      "authorship_tag": "ABX9TyNSZIvIPnSg1yUdv5EQaJlz",
      "include_colab_link": true
    },
    "kernelspec": {
      "name": "python3",
      "display_name": "Python 3"
    }
  },
  "cells": [
    {
      "cell_type": "markdown",
      "metadata": {
        "id": "view-in-github",
        "colab_type": "text"
      },
      "source": [
        "<a href=\"https://colab.research.google.com/github/Jae1Yoon/transformercopypractice/blob/master/transformerPT.ipynb\" target=\"_parent\"><img src=\"https://colab.research.google.com/assets/colab-badge.svg\" alt=\"Open In Colab\"/></a>"
      ]
    },
    {
      "cell_type": "markdown",
      "metadata": {
        "id": "1usKuclV_Gja"
      },
      "source": [
        "## **※ Pip install**"
      ]
    },
    {
      "cell_type": "code",
      "metadata": {
        "id": "KeXUzhzj89Ez",
        "outputId": "a03957fc-c036-4463-f8e5-560a2ea9ffb7",
        "colab": {
          "base_uri": "https://localhost:8080/",
          "height": 122
        }
      },
      "source": [
        "!pip install sentencepiece"
      ],
      "execution_count": null,
      "outputs": [
        {
          "output_type": "stream",
          "text": [
            "Collecting sentencepiece\n",
            "\u001b[?25l  Downloading https://files.pythonhosted.org/packages/d4/a4/d0a884c4300004a78cca907a6ff9a5e9fe4f090f5d95ab341c53d28cbc58/sentencepiece-0.1.91-cp36-cp36m-manylinux1_x86_64.whl (1.1MB)\n",
            "\u001b[K     |████████████████████████████████| 1.1MB 4.6MB/s \n",
            "\u001b[?25hInstalling collected packages: sentencepiece\n",
            "Successfully installed sentencepiece-0.1.91\n"
          ],
          "name": "stdout"
        }
      ]
    },
    {
      "cell_type": "markdown",
      "metadata": {
        "id": "fzFi_1ff-24T"
      },
      "source": [
        "## **※ import하기**"
      ]
    },
    {
      "cell_type": "code",
      "metadata": {
        "id": "nf54-dex-QVb"
      },
      "source": [
        "import os\n",
        "import numpy as np\n",
        "import math\n",
        "import matplotlib.pyplot as plt\n",
        "import sentencepiece as spm\n",
        "\n",
        "import torch\n",
        "import torch.nn as nn\n",
        "import torch.nn.functional as F"
      ],
      "execution_count": null,
      "outputs": []
    },
    {
      "cell_type": "markdown",
      "metadata": {
        "id": "XJQh9NZe-mMR"
      },
      "source": [
        "# **※ Vocab(kowiki model) 로딩 후 입력**\n",
        "\n"
      ]
    },
    {
      "cell_type": "code",
      "metadata": {
        "id": "Bh30QgGw-UO7",
        "outputId": "3e269da0-eaf2-4d31-8f4f-ee9b3baf91d6",
        "colab": {
          "base_uri": "https://localhost:8080/",
          "height": 34
        }
      },
      "source": [
        "# vocab loading\n",
        "vocab_file = \"/content/kowiki.model\"\n",
        "vocab = spm.SentencePieceProcessor()\n",
        "vocab.load(vocab_file)"
      ],
      "execution_count": null,
      "outputs": [
        {
          "output_type": "execute_result",
          "data": {
            "text/plain": [
              "True"
            ]
          },
          "metadata": {
            "tags": []
          },
          "execution_count": 4
        }
      ]
    },
    {
      "cell_type": "code",
      "metadata": {
        "id": "Q27sBlRQ-ZZ0"
      },
      "source": [
        "# 입력 texts\n",
        "lines = [\n",
        "  \"겨울은 추워요.\",\n",
        "  \"감기 조심하세요.\"\n",
        "]"
      ],
      "execution_count": null,
      "outputs": []
    },
    {
      "cell_type": "code",
      "metadata": {
        "id": "-cXrsOMf-bcV",
        "outputId": "9954f71b-b11f-41d5-9125-d662f431df5e",
        "colab": {
          "base_uri": "https://localhost:8080/",
          "height": 51
        }
      },
      "source": [
        "# text를 tensor로 변환\n",
        "inputs = []\n",
        "for line in lines:\n",
        "  pieces = vocab.encode_as_pieces(line)\n",
        "  ids = vocab.encode_as_ids(line)\n",
        "  inputs.append(torch.tensor(ids))\n",
        "  print(pieces)"
      ],
      "execution_count": null,
      "outputs": [
        {
          "output_type": "stream",
          "text": [
            "['▁겨울', '은', '▁추', '워', '요', '.']\n",
            "['▁감', '기', '▁조', '심', '하', '세', '요', '.']\n"
          ],
          "name": "stdout"
        }
      ]
    },
    {
      "cell_type": "code",
      "metadata": {
        "id": "1ckuH8b_-dq9",
        "outputId": "c297099b-795f-402f-83b7-68cd3b5a5240",
        "colab": {
          "base_uri": "https://localhost:8080/",
          "height": 68
        }
      },
      "source": [
        "# 입력 길이가 다르므로 입력 최대 길이에 맟춰 padding(0)을 추가 해 줌\n",
        "inputs = torch.nn.utils.rnn.pad_sequence(inputs, batch_first=True, padding_value=0)\n",
        "# shape\n",
        "print(inputs.size())\n",
        "# 값\n",
        "print(inputs)"
      ],
      "execution_count": null,
      "outputs": [
        {
          "output_type": "stream",
          "text": [
            "torch.Size([2, 8])\n",
            "tensor([[3091, 3604,  206, 3958, 3760, 3590,    0,    0],\n",
            "        [ 212, 3605,   53, 3832, 3596, 3682, 3760, 3590]])\n"
          ],
          "name": "stdout"
        }
      ]
    },
    {
      "cell_type": "markdown",
      "metadata": {
        "id": "SNxdKHDp_cMO"
      },
      "source": [
        "## **※ Embedding**"
      ]
    },
    {
      "cell_type": "code",
      "metadata": {
        "id": "WVDrMTVa_lD-",
        "outputId": "605edd64-9b14-46b9-b870-5f507fab5a2b",
        "colab": {
          "base_uri": "https://localhost:8080/",
          "height": 34
        }
      },
      "source": [
        "\"\"\" input embedding \"\"\"\n",
        "n_vocab = len(vocab)                    # vocab count\n",
        "d_hidn = 128                            # hidden size\n",
        "nn_emb = nn.Embedding(n_vocab, d_hidn)  # embedding 객체\n",
        "\n",
        "input_embs = nn_emb(inputs)             # input embedding\n",
        "print(input_embs.size())"
      ],
      "execution_count": null,
      "outputs": [
        {
          "output_type": "stream",
          "text": [
            "torch.Size([2, 8, 128])\n"
          ],
          "name": "stdout"
        }
      ]
    },
    {
      "cell_type": "markdown",
      "metadata": {
        "id": "La9dAmWHIRHp"
      },
      "source": [
        "# **< input embedding >**\n",
        "- n_vocab : number of vocab?\n",
        "- d_hidn : hidden layer의 dimension\n",
        ">\n",
        "- **torch.nn.Embedding**\n",
        " - https://pytorch.org/docs/master/generated/torch.nn.Embedding.html#torch.nn.Embedding\n",
        " - torch.nn.Embedding(**num_embeddings: int**, **embedding_dim: int**, padding_idx: Optional[int] = None, max_norm: Optional[float] = None, norm_type: float = 2.0, scale_grad_by_freq: bool = False, sparse: bool = False, _weight: Optional[torch.Tensor] = None)\n",
        " >\n",
        " - 앞의 두 인자만 필수, 나머지는 optional한 인자들\n",
        " - num_embeddings : 임베딩의 단어 갯수\n",
        " - embedding_dim : 임베딩 벡터의 dimension\n",
        " >\n",
        " - \"This module is often used to store word embeddings and retrieve them using indices. The input to the module is a list of indices, and the output is the corresponding word embeddings.\"\n",
        " - 한 마디로 몇 가지 인자들을 입력으로 받아, 그에 해당하는 word embedding이 출력으로 나온다는 이야기. \"입력 token을 vector의 형태로 변환한다\"는 말이 이런 의미였음. 그리고 위 함수의 결과로 나온 word embedding 벡터가 nn_embs에 저장되는 것.\n",
        ">\n",
        "- inputs의 size가 (2, 8)이면 이에 대한 embedding값은 d_hidn을 반영해 (2, 8, 128)이 된다."
      ]
    },
    {
      "cell_type": "code",
      "metadata": {
        "id": "5lrLxLTq_t3m"
      },
      "source": [
        "\"\"\" sinusoid position embedding : position encoding \"\"\"\n",
        "def get_sinusoid_encoding_table(n_seq, d_hidn):\n",
        "    def cal_angle(position, i_hidn):\n",
        "        return position / np.power(10000, 2 * (i_hidn // 2) / d_hidn)\n",
        "    def get_posi_angle_vec(position):\n",
        "        return [cal_angle(position, i_hidn) for i_hidn in range(d_hidn)]\n",
        "\n",
        "    sinusoid_table = np.array([get_posi_angle_vec(i_seq) for i_seq in range(n_seq)])\n",
        "    sinusoid_table[:, 0::2] = np.sin(sinusoid_table[:, 0::2])  # dim 2i\n",
        "    sinusoid_table[:, 1::2] = np.cos(sinusoid_table[:, 1::2])  # dim 2i+1\n",
        "\n",
        "    return sinusoid_table"
      ],
      "execution_count": null,
      "outputs": []
    },
    {
      "cell_type": "markdown",
      "metadata": {
        "id": "6_-RCpVVSvcR"
      },
      "source": [
        "# **< position encoding >**\n",
        "![1.png](data:image/png;base64,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)\n",
        "- trasformer는 위치 정보를 가진 값을 만들기 위해 위의 두 함수를 사용한다.\n",
        " - ( pos : input sentence 내 embedding vector의 위치\n",
        " - i : embedding vector 내 dimesion의 index\n",
        " - d_model : 입출력 layer의 dimension. 즉, 정해진 입출력의 크기. )\n",
        "- 이 3가지 정보를 이용해 angle값을 구하고, embedding vector의 dimension의 index가 짝수이면 sin함수를, 홀수이면 cos함수를 사용한다.\n",
        "- 위의 cal_angle과 get_posi_angle_vec은 괄호 안의 계산 내용이다. 그 결과를 sinusoid_table에 저장했다.\n",
        "- 이후 index가 짝수면 sine, 홀수면 cosine을 해준 뒤 반환함으로써 완료된다."
      ]
    },
    {
      "cell_type": "code",
      "metadata": {
        "id": "UBBo1nwM_uLN",
        "outputId": "c6ac6a2b-60dc-4e31-d8ef-381060a1d131",
        "colab": {
          "base_uri": "https://localhost:8080/",
          "height": 300
        }
      },
      "source": [
        "n_seq = 64\n",
        "pos_encoding = get_sinusoid_encoding_table(n_seq, d_hidn)\n",
        "\n",
        "print (pos_encoding.shape) # 크기 출력\n",
        "plt.pcolormesh(pos_encoding, cmap='RdBu')\n",
        "plt.xlabel('Depth')\n",
        "plt.xlim((0, d_hidn))\n",
        "plt.ylabel('Position')\n",
        "plt.colorbar()\n",
        "plt.show()"
      ],
      "execution_count": null,
      "outputs": [
        {
          "output_type": "stream",
          "text": [
            "(64, 128)\n"
          ],
          "name": "stdout"
        },
        {
          "output_type": "display_data",
          "data": {
            "image/png": "[encoded data removed]",
            "text/plain": [
              "<Figure size 432x288 with 2 Axes>"
            ]
          },
          "metadata": {
            "tags": [],
            "needs_background": "light"
          }
        }
      ]
    },
    {
      "cell_type": "markdown",
      "metadata": {
        "id": "1iHTzB6x_Ve2"
      },
      "source": [
        "n_seq : sequence의 크기?\n",
        ">\n",
        "그렇게 position encoding 값을 구하는 과정.\n",
        ">\n",
        ">\n",
        "\n",
        "\n",
        "\n"
      ]
    },
    {
      "cell_type": "code",
      "metadata": {
        "id": "rjXFMAPb_2Ki",
        "outputId": "17f25e7d-cff4-4abd-ba54-f7eb7f129d4c",
        "colab": {
          "base_uri": "https://localhost:8080/",
          "height": 102
        }
      },
      "source": [
        "pos_encoding = torch.FloatTensor(pos_encoding)\n",
        "nn_pos = nn.Embedding.from_pretrained(pos_encoding, freeze=True)\n",
        "\n",
        "positions = torch.arange(inputs.size(1), device=inputs.device, dtype=inputs.dtype).expand(inputs.size(0), inputs.size(1)).contiguous() + 1\n",
        "pos_mask = inputs.eq(0)\n",
        "\n",
        "positions.masked_fill_(pos_mask, 0)\n",
        "pos_embs = nn_pos(positions) # position embedding\n",
        "\n",
        "print(inputs)\n",
        "print(positions)\n",
        "print(pos_embs.size())"
      ],
      "execution_count": null,
      "outputs": [
        {
          "output_type": "stream",
          "text": [
            "tensor([[3091, 3604,  206, 3958, 3760, 3590,    0,    0],\n",
            "        [ 212, 3605,   53, 3832, 3596, 3682, 3760, 3590]])\n",
            "tensor([[1, 2, 3, 4, 5, 6, 0, 0],\n",
            "        [1, 2, 3, 4, 5, 6, 7, 8]])\n",
            "torch.Size([2, 8, 128])\n"
          ],
          "name": "stdout"
        }
      ]
    },
    {
      "cell_type": "markdown",
      "metadata": {
        "id": "_RCq-3xyEAPV"
      },
      "source": [
        "**torch.FloatTensor** : 32비트 float 데이터형으로 바꿔준다.\n",
        ">\n",
        "**nn.Embedding.from_pretained** : 입력받은 2D floatTensor에 대한 Embedding instance 생성\n",
        "- https://pytorch.org/docs/master/generated/torch.nn.Embedding.html#torch.nn.Embedding\n",
        "- CLASSMETHOD from_pretrained(**embeddings**, freeze=True, padding_idx=None, max_norm=None, norm_type=2.0, scale_grad_by_freq=False, sparse=False)\n",
        ">\n",
        " - embeddings 인자 외에 나머지는 전부 optional이다.\n",
        " - embeddings : embedding에 대한 가중치를 포함한 FloatTensor. 2D 중 첫 번째는 임베딩 갯수로, 두 번째는 임베딩 벡터의 차원으로 전달된다.\n",
        " - freeze : True로 설정될 경우, 해당 tensor는 학습 절차 중에 update되지 않는다.\n",
        ">\n",
        "\n",
        "**torch.arange** : (end - start) / step 크기의, start부터 시작해서 end에 이르기까지 step만큼 건너뛰는 값들을 가진 1D tensor를 리턴한다. \n",
        "- torch.arange(**start=0**, **end**, **step=1**, out=None, dtype=None, layout=torch.strided, device=None, requires_grad=False) → Tensor\n",
        "- https://pytorch.org/docs/master/generated/torch.arange.html#torch.arange\n",
        " - start, end, step 外 나머지는 모두 optional하다.\n",
        " - start, end, step : start = 0, step = 1로 default값 설정되어 있어서 위 코드처럼 인자 하나만 받는 경우 end로 들어가는 듯. \n",
        " - dtype : return 받을 tensor의 데이터형\n",
        " - device : return 받을 tensor의 device\n",
        " - requires_grad : autograd가 받을 tensor의 모든 연산을 추적할지 여부 (autograd : '자동 미분' framework으로, requires_grad가 true면 연산 추적 종료 이후에 역방향으로 모든 gradient를 자동 계산한다.) https://pytorch.org/tutorials/beginner/blitz/autograd_tutorial.html\n",
        ">\n",
        " - ※ 그런데 arange 뒤에 위치하는 'expand'는 tensor의 dimension size를 늘려주는 기능이고, 'contiguous'는 tensor와 같은 data를 가진 메모리 tensor의 contiguous?를 리턴한다. 인자가 default일 경우 memory format을 contiguous_format으로 한다는데 이해를 못했다. ( 참고 : https://pytorch.org/docs/stable/tensors.html )\n",
        "\n",
        ">\n",
        "아무튼 이 arange 함수에 inputs의 size를 대입함으로써 positions를 만들고,\n",
        ">\n",
        "pos_mask 변수에 inputs 中 값이 0인 부분을 저장해 그대로 positions에 해당 부분을 masking 처리해준다.\n",
        ">\n",
        "이 처리과정까지 완료된 positions 정보를 임베딩 인스턴스화함으로써 최종적으로 **position embedding**이 완성되는 것이다.\n",
        "\n"
      ]
    },
    {
      "cell_type": "code",
      "metadata": {
        "id": "l9a_LfPg_509"
      },
      "source": [
        "input_sums = input_embs + pos_embs"
      ],
      "execution_count": null,
      "outputs": []
    },
    {
      "cell_type": "markdown",
      "metadata": {
        "id": "C99RlixdLc2f"
      },
      "source": [
        "그리고 input embedding과 position embedding을 더해주면 input은 끝."
      ]
    },
    {
      "cell_type": "markdown",
      "metadata": {
        "id": "018uJys8ACk3"
      },
      "source": [
        "## **※ Scaled Dot Product Attention**"
      ]
    },
    {
      "cell_type": "code",
      "metadata": {
        "id": "D3FjPTElAIky",
        "outputId": "d132d3a6-5082-4d92-d790-4c30ddee0eeb",
        "colab": {
          "base_uri": "https://localhost:8080/",
          "height": 170
        }
      },
      "source": [
        "\"\"\" input \"\"\"\n",
        "Q = input_sums\n",
        "K = input_sums\n",
        "V = input_sums\n",
        "attn_mask = inputs.eq(0).unsqueeze(1).expand(Q.size(0), Q.size(1), K.size(1))\n",
        "print(attn_mask.size())\n",
        "print(attn_mask[0])"
      ],
      "execution_count": null,
      "outputs": [
        {
          "output_type": "stream",
          "text": [
            "torch.Size([2, 8, 8])\n",
            "tensor([[False, False, False, False, False, False,  True,  True],\n",
            "        [False, False, False, False, False, False,  True,  True],\n",
            "        [False, False, False, False, False, False,  True,  True],\n",
            "        [False, False, False, False, False, False,  True,  True],\n",
            "        [False, False, False, False, False, False,  True,  True],\n",
            "        [False, False, False, False, False, False,  True,  True],\n",
            "        [False, False, False, False, False, False,  True,  True],\n",
            "        [False, False, False, False, False, False,  True,  True]])\n"
          ],
          "name": "stdout"
        }
      ]
    },
    {
      "cell_type": "markdown",
      "metadata": {
        "id": "pH6cy4yHeWgM"
      },
      "source": [
        "Encoder의 self-attention, Decoder의 self-attention 모두 Q = K = V다.\n",
        ">\n",
        "Decoder의 Encoder-Decoder attention만 Q from Decoder vector, K = V from Encoder vector다. 그렇다구요~ 깔! 깔! 깔~\n",
        ">\n",
        "**unsqueeze** : '지정된 위치'에 삽입된 크기 1의 dimension을 가진 새로운 tensor를 리턴한다.\n",
        ">\n",
        "아무튼 inputs에 값이 공백인 부분을 찾아, 추후 해당 부분은 attention의 전체 연산 과정에서 제외시키기 위한 attention mask 변수에 넣는다."
      ]
    },
    {
      "cell_type": "code",
      "metadata": {
        "id": "JPtTVTJSAOWl",
        "outputId": "9b023574-ba9b-48f6-99e7-28899de713db",
        "colab": {
          "base_uri": "https://localhost:8080/",
          "height": 306
        }
      },
      "source": [
        "\"\"\" Q * K-transpose \"\"\"\n",
        "scores = torch.matmul(Q, K.transpose(-1, -2))\n",
        "print(scores.size())\n",
        "print(scores[0])"
      ],
      "execution_count": null,
      "outputs": [
        {
          "output_type": "stream",
          "text": [
            "torch.Size([2, 8, 8])\n",
            "tensor([[203.3360,  68.0523,  80.2481,  62.1185,  95.7974,  59.2111,  48.6162,\n",
            "          48.6162],\n",
            "        [ 68.0523, 223.8689,  77.6710,  92.3771,  69.2858,  47.9890,  62.1625,\n",
            "          62.1625],\n",
            "        [ 80.2481,  77.6710, 208.6642,  79.4435,  60.1847,  66.8837,  70.7589,\n",
            "          70.7589],\n",
            "        [ 62.1185,  92.3771,  79.4435, 189.3903,  70.9870,  27.5476,  39.7176,\n",
            "          39.7176],\n",
            "        [ 95.7974,  69.2858,  60.1847,  70.9870, 199.4789,  72.5259,  41.4736,\n",
            "          41.4736],\n",
            "        [ 59.2111,  47.9890,  66.8837,  27.5476,  72.5259, 176.7278,  30.3802,\n",
            "          30.3802],\n",
            "        [ 48.6162,  62.1625,  70.7589,  39.7176,  41.4736,  30.3802, 189.9152,\n",
            "         189.9152],\n",
            "        [ 48.6162,  62.1625,  70.7589,  39.7176,  41.4736,  30.3802, 189.9152,\n",
            "         189.9152]], grad_fn=<SelectBackward>)\n"
          ],
          "name": "stdout"
        }
      ]
    },
    {
      "cell_type": "markdown",
      "metadata": {
        "id": "XcnhlrJ1mlzL"
      },
      "source": [
        "Q와 K의 전치matrix를 matmul시켜주는 과정. K를 전치할 때 들어가는 인자 -1, -2의 의미는 잘 모르겠음."
      ]
    },
    {
      "cell_type": "code",
      "metadata": {
        "id": "4Jp4eI2cAgh4",
        "outputId": "35d6dc5f-367f-46a9-fb93-52e200444119",
        "colab": {
          "base_uri": "https://localhost:8080/",
          "height": 187
        }
      },
      "source": [
        "\"\"\" scale \"\"\"\n",
        "d_head = 64\n",
        "scores = scores.mul_(1/d_head**0.5)\n",
        "print(scores.size())\n",
        "print(scores[0])"
      ],
      "execution_count": null,
      "outputs": [
        {
          "output_type": "stream",
          "text": [
            "torch.Size([2, 8, 8])\n",
            "tensor([[25.4170,  8.5065, 10.0310,  7.7648, 11.9747,  7.4014,  6.0770,  6.0770],\n",
            "        [ 8.5065, 27.9836,  9.7089, 11.5471,  8.6607,  5.9986,  7.7703,  7.7703],\n",
            "        [10.0310,  9.7089, 26.0830,  9.9304,  7.5231,  8.3605,  8.8449,  8.8449],\n",
            "        [ 7.7648, 11.5471,  9.9304, 23.6738,  8.8734,  3.4435,  4.9647,  4.9647],\n",
            "        [11.9747,  8.6607,  7.5231,  8.8734, 24.9349,  9.0657,  5.1842,  5.1842],\n",
            "        [ 7.4014,  5.9986,  8.3605,  3.4435,  9.0657, 22.0910,  3.7975,  3.7975],\n",
            "        [ 6.0770,  7.7703,  8.8449,  4.9647,  5.1842,  3.7975, 23.7394, 23.7394],\n",
            "        [ 6.0770,  7.7703,  8.8449,  4.9647,  5.1842,  3.7975, 23.7394, 23.7394]],\n",
            "       grad_fn=<SelectBackward>)\n"
          ],
          "name": "stdout"
        }
      ]
    },
    {
      "cell_type": "markdown",
      "metadata": {
        "id": "z67R4ifOnggX"
      },
      "source": [
        "**d_head** : 입출력의 dimension을 병렬 갯수로 나눈 값인데, 여기서는 128과 2이므로 64라고 선언한듯.\n",
        ">\n",
        "바로 위의 Q * K-transpose를 이 d_head의 root값으로 나눠주는 scale 과정이다."
      ]
    },
    {
      "cell_type": "code",
      "metadata": {
        "id": "_a2LgqO_AkSx",
        "outputId": "aaaa2f34-f1e6-4fbb-b701-59c60f0852cc",
        "colab": {
          "base_uri": "https://localhost:8080/",
          "height": 306
        }
      },
      "source": [
        "\"\"\" mask (optional) \"\"\"\n",
        "scores.masked_fill_(attn_mask, -1e9)\n",
        "print(scores.size())\n",
        "print(scores[0])"
      ],
      "execution_count": null,
      "outputs": [
        {
          "output_type": "stream",
          "text": [
            "torch.Size([2, 8, 8])\n",
            "tensor([[ 2.5417e+01,  8.5065e+00,  1.0031e+01,  7.7648e+00,  1.1975e+01,\n",
            "          7.4014e+00, -1.0000e+09, -1.0000e+09],\n",
            "        [ 8.5065e+00,  2.7984e+01,  9.7089e+00,  1.1547e+01,  8.6607e+00,\n",
            "          5.9986e+00, -1.0000e+09, -1.0000e+09],\n",
            "        [ 1.0031e+01,  9.7089e+00,  2.6083e+01,  9.9304e+00,  7.5231e+00,\n",
            "          8.3605e+00, -1.0000e+09, -1.0000e+09],\n",
            "        [ 7.7648e+00,  1.1547e+01,  9.9304e+00,  2.3674e+01,  8.8734e+00,\n",
            "          3.4435e+00, -1.0000e+09, -1.0000e+09],\n",
            "        [ 1.1975e+01,  8.6607e+00,  7.5231e+00,  8.8734e+00,  2.4935e+01,\n",
            "          9.0657e+00, -1.0000e+09, -1.0000e+09],\n",
            "        [ 7.4014e+00,  5.9986e+00,  8.3605e+00,  3.4435e+00,  9.0657e+00,\n",
            "          2.2091e+01, -1.0000e+09, -1.0000e+09],\n",
            "        [ 6.0770e+00,  7.7703e+00,  8.8449e+00,  4.9647e+00,  5.1842e+00,\n",
            "          3.7975e+00, -1.0000e+09, -1.0000e+09],\n",
            "        [ 6.0770e+00,  7.7703e+00,  8.8449e+00,  4.9647e+00,  5.1842e+00,\n",
            "          3.7975e+00, -1.0000e+09, -1.0000e+09]], grad_fn=<SelectBackward>)\n"
          ],
          "name": "stdout"
        }
      ]
    },
    {
      "cell_type": "markdown",
      "metadata": {
        "id": "7MbvbC5epct1"
      },
      "source": [
        "위에서도 언급했듯 아까 구한 attention mask를 매우 작은 값으로 바꿔 연산에서 제외시킨다."
      ]
    },
    {
      "cell_type": "code",
      "metadata": {
        "id": "tZ3dZI-zAtdi",
        "outputId": "1f51f14d-009f-4870-933c-268f642e9ec2",
        "colab": {
          "base_uri": "https://localhost:8080/",
          "height": 306
        }
      },
      "source": [
        "\"\"\" softmax \"\"\"\n",
        "attn_prob = nn.Softmax(dim=-1)(scores)\n",
        "print(attn_prob.size())\n",
        "print(attn_prob[0])"
      ],
      "execution_count": null,
      "outputs": [
        {
          "output_type": "stream",
          "text": [
            "torch.Size([2, 8, 8])\n",
            "tensor([[1.0000e+00, 4.5277e-08, 2.0795e-07, 2.1565e-08, 1.4524e-06, 1.4994e-08,\n",
            "         0.0000e+00, 0.0000e+00],\n",
            "        [3.4771e-09, 1.0000e+00, 1.1571e-08, 7.2733e-08, 4.0568e-09, 2.8317e-10,\n",
            "         0.0000e+00, 0.0000e+00],\n",
            "        [1.0683e-07, 7.7410e-08, 1.0000e+00, 9.6610e-08, 8.7001e-09, 2.0100e-08,\n",
            "         0.0000e+00, 0.0000e+00],\n",
            "        [1.2326e-07, 5.4133e-06, 1.0748e-06, 9.9999e-01, 3.7347e-07, 1.6371e-09,\n",
            "         0.0000e+00, 0.0000e+00],\n",
            "        [2.3521e-06, 8.5552e-08, 2.7426e-08, 1.0582e-07, 1.0000e+00, 1.2827e-07,\n",
            "         0.0000e+00, 0.0000e+00],\n",
            "        [4.1724e-07, 1.0261e-07, 1.0887e-06, 7.9704e-09, 2.2040e-06, 1.0000e+00,\n",
            "         0.0000e+00, 0.0000e+00],\n",
            "        [4.3100e-02, 2.3435e-01, 6.8632e-01, 1.4171e-02, 1.7649e-02, 4.4106e-03,\n",
            "         0.0000e+00, 0.0000e+00],\n",
            "        [4.3100e-02, 2.3435e-01, 6.8632e-01, 1.4171e-02, 1.7649e-02, 4.4106e-03,\n",
            "         0.0000e+00, 0.0000e+00]], grad_fn=<SelectBackward>)\n"
          ],
          "name": "stdout"
        }
      ]
    },
    {
      "cell_type": "markdown",
      "metadata": {
        "id": "QW9rjAJDpqXQ"
      },
      "source": [
        "https://pytorch.org/docs/master/generated/torch.nn.Softmax.html#torch.nn.Softmax\n",
        ">\n",
        "에 의하면 파라미터인 dim은 softmax 연산이 진행될 dimension을 의미하는데 dim이 -1일 수 있나? 노이해인 부분.\n",
        ">\n",
        "아무튼 결과를 보면 mask 부분은 전부 0이 되었다."
      ]
    },
    {
      "cell_type": "code",
      "metadata": {
        "id": "sDLkT1vAAxNL",
        "outputId": "a2f3f709-b8c8-4dea-e495-09130e6d1f8f",
        "colab": {
          "base_uri": "https://localhost:8080/",
          "height": 34
        }
      },
      "source": [
        "\"\"\" attention prov * V \"\"\"\n",
        "context = torch.matmul(attn_prob, V)\n",
        "print(context.size())"
      ],
      "execution_count": null,
      "outputs": [
        {
          "output_type": "stream",
          "text": [
            "torch.Size([2, 8, 128])\n"
          ],
          "name": "stdout"
        }
      ]
    },
    {
      "cell_type": "markdown",
      "metadata": {
        "id": "g8shOTHur5Ve"
      },
      "source": [
        "softmax까지 해서 나온 녀석과 V 벡터를 matmul해주는 과정."
      ]
    },
    {
      "cell_type": "code",
      "metadata": {
        "id": "NkKM7P8VA4yc"
      },
      "source": [
        "\"\"\" implementation CLASS : bind all of those things \"\"\"\n",
        "class ScaledDotProductAttention(nn.Module):\n",
        "    def __init__(self, d_head):\n",
        "        super().__init__()\n",
        "        self.scale = 1 / (d_head ** 0.5)\n",
        "    \n",
        "    def forward(self, Q, K, V, attn_mask):\n",
        "        # (bs, n_head, n_q_seq, n_k_seq)\n",
        "        scores = torch.matmul(Q, K.transpose(-1, -2)).mul_(self.scale)\n",
        "        scores.masked_fill_(attn_mask, -1e9)\n",
        "        # (bs, n_head, n_q_seq, n_k_seq)\n",
        "        attn_prob = nn.Softmax(dim=-1)(scores)\n",
        "        # (bs, n_head, n_q_seq, d_v)\n",
        "        context = torch.matmul(attn_prob, V)\n",
        "        # (bs, n_head, n_q_seq, d_v), (bs, n_head, n_q_seq, n_v_seq)\n",
        "        return context, attn_prob"
      ],
      "execution_count": null,
      "outputs": []
    },
    {
      "cell_type": "markdown",
      "metadata": {
        "id": "NPNE6qwTsfel"
      },
      "source": [
        "하나의 CLASS로 합친 것. 위의 과정들이 빠짐 없이 들어있다."
      ]
    },
    {
      "cell_type": "markdown",
      "metadata": {
        "id": "NcHm4FgyBLRp"
      },
      "source": [
        "## **※ Multi-Head Attention**"
      ]
    },
    {
      "cell_type": "code",
      "metadata": {
        "id": "mfGHVzh9BTka"
      },
      "source": [
        "\"\"\" input \"\"\"\n",
        "Q = input_sums\n",
        "K = input_sums\n",
        "V = input_sums\n",
        "attn_mask = inputs.eq(0).unsqueeze(1).expand(Q.size(0), Q.size(1), K.size(1))\n",
        "\n",
        "batch_size = Q.size(0)\n",
        "n_head = 2"
      ],
      "execution_count": null,
      "outputs": []
    },
    {
      "cell_type": "markdown",
      "metadata": {
        "id": "-a2SdAvvuYxm"
      },
      "source": [
        "input 정보는 위의 scaled attention과 같다. 여기선 head 개수를 2로 지정했군. 논문에선 8이다."
      ]
    },
    {
      "cell_type": "code",
      "metadata": {
        "id": "-7SN68KYBUMu",
        "outputId": "44642f7e-5b85-4e63-bb0a-2d9e5f2f7329",
        "colab": {
          "base_uri": "https://localhost:8080/",
          "height": 68
        }
      },
      "source": [
        "\"\"\" Multi Head Q, K, V \"\"\"\n",
        "W_Q = nn.Linear(d_hidn, n_head * d_head)\n",
        "W_K = nn.Linear(d_hidn, n_head * d_head)\n",
        "W_V = nn.Linear(d_hidn, n_head * d_head)\n",
        "\n",
        "# (bs, n_seq, n_head * d_head)\n",
        "q_s = W_Q(Q)\n",
        "print(q_s.size())\n",
        "# (bs, n_seq, n_head, d_head)\n",
        "q_s = q_s.view(batch_size, -1, n_head, d_head)\n",
        "print(q_s.size())\n",
        "# (bs, n_head, n_seq, d_head)\n",
        "q_s = q_s.transpose(1,2)\n",
        "print(q_s.size())"
      ],
      "execution_count": null,
      "outputs": [
        {
          "output_type": "stream",
          "text": [
            "torch.Size([2, 8, 128])\n",
            "torch.Size([2, 8, 2, 64])\n",
            "torch.Size([2, 2, 8, 64])\n"
          ],
          "name": "stdout"
        }
      ]
    },
    {
      "cell_type": "markdown",
      "metadata": {
        "id": "xEdOq4x5u4ht"
      },
      "source": [
        "**nn.Linear** : 곧 들어오는 input data에 y = x*A-transpose + B linear transformation 연산을 적용한다.\n",
        "- https://pytorch.org/docs/master/generated/torch.nn.Linear.html#torch.nn.Linear\n",
        "- torch.nn.Linear(**in_features**: int, **out_features**: int, **bias**: bool = True)\n",
        " - in_features : 각 input sample의 size\n",
        " - out_features : 각 output sample의 size\n",
        " - bias : false면 추가 bias를 학습 안 함. default값은 true.\n",
        "\n",
        "**view** : tensor를 입력받은 파라미터대로 다른 shape의 tensor로 바꿔주는 역할.\n",
        "\n",
        "즉 가중치 행렬을 만들어 linear transformation을 진행한 뒤 view를 통해 병렬화한다.\n",
        "\n"
      ]
    },
    {
      "cell_type": "code",
      "metadata": {
        "id": "i1n_ZFUaBWV4",
        "outputId": "47bc2b90-4695-43cf-ae94-180aa3f63faf",
        "colab": {
          "base_uri": "https://localhost:8080/",
          "height": 34
        }
      },
      "source": [
        "# (bs, n_head, n_seq, d_head)\n",
        "q_s = W_Q(Q).view(batch_size, -1, n_head, d_head).transpose(1,2)\n",
        "# (bs, n_head, n_seq, d_head)\n",
        "k_s = W_K(K).view(batch_size, -1, n_head, d_head).transpose(1,2)\n",
        "# (bs, n_head, n_seq, d_head)\n",
        "v_s = W_V(V).view(batch_size, -1, n_head, d_head).transpose(1,2)\n",
        "print(q_s.size(), k_s.size(), v_s.size())"
      ],
      "execution_count": null,
      "outputs": [
        {
          "output_type": "stream",
          "text": [
            "torch.Size([2, 2, 8, 64]) torch.Size([2, 2, 8, 64]) torch.Size([2, 2, 8, 64])\n"
          ],
          "name": "stdout"
        }
      ]
    },
    {
      "cell_type": "markdown",
      "metadata": {
        "id": "p_Xw83EI2GXI"
      },
      "source": [
        "바로 위의 과정을 Q, K, V 각각에 적용해준 code."
      ]
    },
    {
      "cell_type": "code",
      "metadata": {
        "id": "1HlfAvVvBWxL",
        "outputId": "399124df-7e64-4d9a-ebc8-a9ece2b44110",
        "colab": {
          "base_uri": "https://localhost:8080/",
          "height": 51
        }
      },
      "source": [
        "\"\"\" Multi Head Attention Mask \"\"\"\n",
        "print(attn_mask.size())\n",
        "attn_mask = attn_mask.unsqueeze(1).repeat(1, n_head, 1, 1)\n",
        "print(attn_mask.size())"
      ],
      "execution_count": null,
      "outputs": [
        {
          "output_type": "stream",
          "text": [
            "torch.Size([2, 8, 8])\n",
            "torch.Size([2, 2, 8, 8])\n"
          ],
          "name": "stdout"
        }
      ]
    },
    {
      "cell_type": "markdown",
      "metadata": {
        "id": "2F4V9fz-2O9R"
      },
      "source": [
        "attention mask도 같은 형식의 multi head로 만들어준다."
      ]
    },
    {
      "cell_type": "code",
      "metadata": {
        "id": "UcBNFQXVB7XC",
        "outputId": "7d4756e4-40c3-4786-b51d-6b33d5f6ae6c",
        "colab": {
          "base_uri": "https://localhost:8080/",
          "height": 51
        }
      },
      "source": [
        "\"\"\" Attention \"\"\"\n",
        "scaled_dot_attn = ScaledDotProductAttention(d_head)\n",
        "context, attn_prob = scaled_dot_attn(q_s, k_s, v_s, attn_mask)\n",
        "print(context.size())\n",
        "print(attn_prob.size())"
      ],
      "execution_count": null,
      "outputs": [
        {
          "output_type": "stream",
          "text": [
            "torch.Size([2, 2, 8, 64])\n",
            "torch.Size([2, 2, 8, 8])\n"
          ],
          "name": "stdout"
        }
      ]
    },
    {
      "cell_type": "markdown",
      "metadata": {
        "id": "9n2RA47639Z8"
      },
      "source": [
        "scaled dot product attention 어서오고 ㅋㅋ"
      ]
    },
    {
      "cell_type": "code",
      "metadata": {
        "id": "4NmaVv9jCD4h",
        "outputId": "a5dd5a61-687c-43da-e808-4766f194ce8c",
        "colab": {
          "base_uri": "https://localhost:8080/",
          "height": 34
        }
      },
      "source": [
        "\"\"\" Concat \"\"\"\n",
        "# (bs, n_seq, n_head * d_head)\n",
        "context = context.transpose(1, 2).contiguous().view(batch_size, -1, n_head * d_head)\n",
        "print(context.size())"
      ],
      "execution_count": null,
      "outputs": [
        {
          "output_type": "stream",
          "text": [
            "torch.Size([2, 8, 128])\n"
          ],
          "name": "stdout"
        }
      ]
    },
    {
      "cell_type": "markdown",
      "metadata": {
        "id": "iNISLZwr4RoK"
      },
      "source": [
        "concat 갈겨주고"
      ]
    },
    {
      "cell_type": "code",
      "metadata": {
        "id": "CtN-9_95CHoy",
        "outputId": "fddfff07-5215-4490-e0e6-cbf7493637fb",
        "colab": {
          "base_uri": "https://localhost:8080/",
          "height": 34
        }
      },
      "source": [
        "\"\"\" Linear \"\"\"\n",
        "linear = nn.Linear(n_head * d_head, d_hidn)\n",
        "# (bs, n_seq, d_hidn)\n",
        "output = linear(context)\n",
        "print(output.size())"
      ],
      "execution_count": null,
      "outputs": [
        {
          "output_type": "stream",
          "text": [
            "torch.Size([2, 8, 128])\n"
          ],
          "name": "stdout"
        }
      ]
    },
    {
      "cell_type": "markdown",
      "metadata": {
        "id": "ayp01kjm4zyc"
      },
      "source": [
        "linear transformation 딱 대주고."
      ]
    },
    {
      "cell_type": "code",
      "metadata": {
        "id": "zh49RlKvCU1e"
      },
      "source": [
        "\"\"\" implementation CLASS : bind all those things \"\"\"\n",
        "class MultiHeadAttention(nn.Module):\n",
        "    def __init__(self, d_hidn, n_head, d_head):\n",
        "        super().__init__()\n",
        "        self.d_hidn = d_hidn\n",
        "        self.n_head = n_head\n",
        "        self.d_head = d_head\n",
        "\n",
        "        self.W_Q = nn.Linear(d_hidn, n_head * d_head)\n",
        "        self.W_K = nn.Linear(d_hidn, n_head * d_head)\n",
        "        self.W_V = nn.Linear(d_hidn, n_head * d_head)\n",
        "        self.scaled_dot_attn = ScaledDotProductAttention(d_head)\n",
        "        self.linear = nn.Linear(n_head * d_head, d_hidn)\n",
        "    \n",
        "    def forward(self, Q, K, V, attn_mask):\n",
        "        batch_size = Q.size(0)\n",
        "        # (bs, n_head, n_q_seq, d_head)\n",
        "        q_s = self.W_Q(Q).view(batch_size, -1, self.n_head, self.d_head).transpose(1,2)\n",
        "        # (bs, n_head, n_k_seq, d_head)\n",
        "        k_s = self.W_K(K).view(batch_size, -1, self.n_head, self.d_head).transpose(1,2)\n",
        "        # (bs, n_head, n_v_seq, d_head)\n",
        "        v_s = self.W_V(V).view(batch_size, -1, self.n_head, self.d_head).transpose(1,2)\n",
        "\n",
        "        # (bs, n_head, n_q_seq, n_k_seq)\n",
        "        attn_mask = attn_mask.unsqueeze(1).repeat(1, self.n_head, 1, 1)\n",
        "\n",
        "        # (bs, n_head, n_q_seq, d_head), (bs, n_head, n_q_seq, n_k_seq)\n",
        "        context, attn_prob = self.scaled_dot_attn(q_s, k_s, v_s, attn_mask)\n",
        "        # (bs, n_head, n_q_seq, h_head * d_head)\n",
        "        context = context.transpose(1, 2).contiguous().view(batch_size, -1, self.n_head * self.d_head)\n",
        "        # (bs, n_head, n_q_seq, e_embd)\n",
        "        output = self.linear(context)\n",
        "        # (bs, n_q_seq, d_hidn), (bs, n_head, n_q_seq, n_k_seq)\n",
        "        return output, attn_prob"
      ],
      "execution_count": null,
      "outputs": []
    },
    {
      "cell_type": "markdown",
      "metadata": {
        "id": "fEAp2kSr5STk"
      },
      "source": [
        "CLASS로 합쳐서 표현하면 이렇고 ㅋㅋ"
      ]
    },
    {
      "cell_type": "markdown",
      "metadata": {
        "id": "8-PkXEuvCphe"
      },
      "source": [
        "## **※ Feed Forward NN**\n",
        "![123.png](data:image/png;base64,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)"
      ]
    },
    {
      "cell_type": "code",
      "metadata": {
        "id": "ags9e-WhCwOv",
        "outputId": "ea768449-8df9-49c9-a9b5-638b21f90649",
        "colab": {
          "base_uri": "https://localhost:8080/",
          "height": 34
        }
      },
      "source": [
        "\"\"\" f1 (Linear) \"\"\"\n",
        "conv1 = nn.Conv1d(in_channels=d_hidn, out_channels=d_hidn * 4, kernel_size=1)\n",
        "# (bs, d_hidn * 4, n_seq)\n",
        "ff_1 = conv1(output.transpose(1, 2))\n",
        "print(ff_1.size())"
      ],
      "execution_count": null,
      "outputs": [
        {
          "output_type": "stream",
          "text": [
            "torch.Size([2, 512, 8])\n"
          ],
          "name": "stdout"
        }
      ]
    },
    {
      "cell_type": "markdown",
      "metadata": {
        "id": "Sgs8cE1a8gKk"
      },
      "source": [
        "1d로 conv 적용해주고"
      ]
    },
    {
      "cell_type": "code",
      "metadata": {
        "id": "upvt5olaD7Ax"
      },
      "source": [
        "\"\"\" Activation (Relu or Gelu) \"\"\"\n",
        "# active = F.relu\n",
        "active = F.gelu\n",
        "ff_2 = active(ff_1)"
      ],
      "execution_count": null,
      "outputs": []
    },
    {
      "cell_type": "markdown",
      "metadata": {
        "id": "bn0XWTqZ6qoW"
      },
      "source": [
        "gelu를 사용해주는 swag"
      ]
    },
    {
      "cell_type": "code",
      "metadata": {
        "id": "joJ8waHpEA0H",
        "outputId": "efb03d10-213e-47ef-aa31-c824696004e7",
        "colab": {
          "base_uri": "https://localhost:8080/",
          "height": 34
        }
      },
      "source": [
        "\"\"\" f3 (Linear) \"\"\"\n",
        "conv2 = nn.Conv1d(in_channels=d_hidn * 4, out_channels=d_hidn, kernel_size=1)\n",
        "ff_3 = conv2(ff_2).transpose(1, 2)\n",
        "print(ff_3.size())"
      ],
      "execution_count": null,
      "outputs": [
        {
          "output_type": "stream",
          "text": [
            "torch.Size([2, 8, 128])\n"
          ],
          "name": "stdout"
        }
      ]
    },
    {
      "cell_type": "markdown",
      "metadata": {
        "id": "LvyroAnk_q8c"
      },
      "source": [
        "1d conv 적용해주면 끝."
      ]
    },
    {
      "cell_type": "code",
      "metadata": {
        "id": "cLw4D9x2EHBi"
      },
      "source": [
        "\"\"\" implementation CLASS : bind all those things \"\"\"\n",
        "class PoswiseFeedForwardNet(nn.Module):\n",
        "    def __init__(self, d_hidn):\n",
        "        super().__init__()\n",
        "\n",
        "        self.conv1 = nn.Conv1d(in_channels=self.config.d_hidn, out_channels=self.config.d_hidn * 4, kernel_size=1)\n",
        "        self.conv2 = nn.Conv1d(in_channels=self.config.d_hidn * 4, out_channels=self.config.d_hidn, kernel_size=1)\n",
        "        self.active = F.gelu\n",
        "\n",
        "    def forward(self, inputs):\n",
        "        # (bs, d_ff, n_seq)\n",
        "        output = self.active(self.conv1(inputs.transpose(1, 2)))\n",
        "        # (bs, n_seq, d_hidn)\n",
        "        output = self.conv2(output).transpose(1, 2)\n",
        "        # (bs, n_seq, d_hidn)\n",
        "        return output"
      ],
      "execution_count": null,
      "outputs": []
    },
    {
      "cell_type": "markdown",
      "metadata": {
        "id": "xRK0pcup8SI5"
      },
      "source": [
        "CLASS 하나로 나타내면 다음과 같다."
      ]
    }
  ]
}